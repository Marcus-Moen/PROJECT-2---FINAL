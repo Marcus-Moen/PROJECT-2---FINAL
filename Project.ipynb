{
 "cells": [
  {
   "cell_type": "markdown",
   "id": "e595b8cf",
   "metadata": {},
   "source": [
    "# **SENTIMENT ANALYSIS**\n"
   ]
  },
  {
   "cell_type": "markdown",
   "id": "a8d1c17b",
   "metadata": {},
   "source": [
    "##### **BUSINESS PROBLEM**"
   ]
  },
  {
   "cell_type": "markdown",
   "id": "0435035a",
   "metadata": {},
   "source": []
  },
  {
   "cell_type": "markdown",
   "id": "3d1fc102",
   "metadata": {},
   "source": []
  },
  {
   "cell_type": "markdown",
   "id": "efcfe8a1",
   "metadata": {},
   "source": []
  },
  {
   "cell_type": "code",
   "execution_count": 26,
   "id": "889eed46",
   "metadata": {},
   "outputs": [
    {
     "name": "stderr",
     "output_type": "stream",
     "text": [
      "[nltk_data] Downloading package stopwords to\n",
      "[nltk_data]     C:\\Users\\marcu\\AppData\\Roaming\\nltk_data...\n",
      "[nltk_data]   Package stopwords is already up-to-date!\n",
      "[nltk_data] Downloading package punkt to\n",
      "[nltk_data]     C:\\Users\\marcu\\AppData\\Roaming\\nltk_data...\n",
      "[nltk_data]   Package punkt is already up-to-date!\n"
     ]
    }
   ],
   "source": [
    "import pandas as pd\n",
    "import re\n",
    "import string\n",
    "from sklearn.model_selection import train_test_split\n",
    "from sklearn.preprocessing import LabelEncoder\n",
    "from sklearn.feature_extraction.text import TfidfVectorizer\n",
    "import nltk\n",
    "from nltk.tokenize import word_tokenize\n",
    "from nltk.corpus import stopwords\n",
    "from nltk.stem import PorterStemmer\n",
    "\n",
    "nltk.download('stopwords', download_dir='C:\\\\Users\\\\marcu\\\\AppData\\\\Roaming\\\\nltk_data')\n",
    "nltk.download('punkt', download_dir='C:\\\\Users\\\\marcu\\\\AppData\\\\Roaming\\\\nltk_data')\n",
    "\n",
    "df = pd.read_csv(\"Tweets.csv\")\n",
    "\n",
    "# Keep only relevant columns\n",
    "df = df[['airline_sentiment', 'text']]\n",
    "\n",
    "# Load stopwords once\n",
    "stop_words = set(stopwords.words('english'))\n",
    "stemmer = PorterStemmer()\n",
    "\n",
    "def clean_text(text):\n",
    "    try:\n",
    "        text = str(text).lower()  # Make sure it's a string\n",
    "        text = re.sub(r\"http\\S+|www\\S+|https\\S+\", '', text)\n",
    "        text = re.sub(r'\\@\\w+|\\#','', text)\n",
    "        text = re.sub(r'[^\\w\\s]', '', text)\n",
    "        tokens = text.split()  # Use split instead of nltk tokenize\n",
    "        tokens = [word for word in tokens if word not in stop_words]\n",
    "        tokens = [stemmer.stem(word) for word in tokens]\n",
    "        return ' '.join(tokens)\n",
    "    except Exception as e:\n",
    "        print(f\"Error cleaning text: {text} -> {e}\")\n",
    "        return \"\"\n",
    "\n",
    "try:\n",
    "    df['clean_text'] = df['text'].apply(clean_text)\n",
    "except Exception as e:\n",
    "    print(\"Error:\", e)\n",
    "\n",
    "# Encode labels\n",
    "label_encoder = LabelEncoder()\n",
    "df['sentiment_encoded'] = label_encoder.fit_transform(df['airline_sentiment'])\n",
    "\n",
    "# Vectorize text using TF-IDF\n",
    "vectorizer = TfidfVectorizer(max_features=5000, ngram_range=(1, 2))\n",
    "# Added bi-grams to help the model understand context better\n",
    "# A bi-gram is a sequence of two adjacent elements from a string of tokens, which can help capture context better than unigrams alone.\n",
    "X = vectorizer.fit_transform(df['clean_text']).toarray()\n",
    "\n",
    "# Define features and labels\n",
    "y = df['sentiment_encoded']\n",
    "\n",
    "# Split into train and test sets\n",
    "X_train, X_test, y_train, y_test = train_test_split(X, y, test_size=0.2, random_state=42)\n",
    "\n",
    "\n"
   ]
  },
  {
   "cell_type": "markdown",
   "id": "7c056604",
   "metadata": {},
   "source": [
    "##### **LOGISTIC REGRESSION**\n"
   ]
  },
  {
   "cell_type": "code",
   "execution_count": 27,
   "id": "d9c4c7d4",
   "metadata": {},
   "outputs": [
    {
     "name": "stdout",
     "output_type": "stream",
     "text": [
      "Logistic Regression Accuracy: 0.7978142076502732\n",
      "Logistic Regression Classification Report:\n",
      "               precision    recall  f1-score   support\n",
      "\n",
      "           0       0.82      0.94      0.88      1889\n",
      "           1       0.65      0.49      0.56       580\n",
      "           2       0.83      0.61      0.70       459\n",
      "\n",
      "    accuracy                           0.80      2928\n",
      "   macro avg       0.77      0.68      0.71      2928\n",
      "weighted avg       0.79      0.80      0.79      2928\n",
      "\n"
     ]
    }
   ],
   "source": [
    "from sklearn.linear_model import LogisticRegression\n",
    "from sklearn.metrics import classification_report, accuracy_score\n",
    "\n",
    "# Initialize and train Logistic Regression model\n",
    "logreg = LogisticRegression(max_iter=1000)\n",
    "logreg.fit(X_train, y_train)\n",
    "\n",
    "# Predictions\n",
    "y_pred_logreg = logreg.predict(X_test)\n",
    "\n",
    "# Evaluation\n",
    "print(\"Logistic Regression Accuracy:\", accuracy_score(y_test, y_pred_logreg))\n",
    "print(\"Logistic Regression Classification Report:\\n\", classification_report(y_test, y_pred_logreg))\n"
   ]
  },
  {
   "cell_type": "markdown",
   "id": "fb2e44bb",
   "metadata": {},
   "source": [
    "##### **RANDOM FOREST**"
   ]
  },
  {
   "cell_type": "code",
   "execution_count": 28,
   "id": "a384248b",
   "metadata": {},
   "outputs": [],
   "source": [
    "# from sklearn.ensemble import RandomForestClassifier\n",
    "\n",
    "# # Initialize and train Random Forest model\n",
    "# rf = RandomForestClassifier(n_estimators=100, random_state=42)\n",
    "# rf.fit(X_train, y_train)\n",
    "\n",
    "# # Predictions\n",
    "# y_pred_rf = rf.predict(X_test)\n",
    "\n",
    "# # Evaluation\n",
    "# print(\"Random Forest Accuracy:\", accuracy_score(y_test, y_pred_rf))\n",
    "# print(\"Random Forest Classification Report:\\n\", classification_report(y_test, y_pred_rf))\n"
   ]
  },
  {
   "cell_type": "markdown",
   "id": "79eeda6c",
   "metadata": {},
   "source": [
    "##### **FINE-TUNING THE MODEL TO INCREASE PERFORMANCE**"
   ]
  },
  {
   "cell_type": "code",
   "execution_count": null,
   "id": "2aa369e0",
   "metadata": {},
   "outputs": [],
   "source": []
  },
  {
   "cell_type": "markdown",
   "id": "6337b4b2",
   "metadata": {},
   "source": [
    "##### **SAVING THE MODEL FILE**"
   ]
  },
  {
   "cell_type": "code",
   "execution_count": null,
   "id": "6bdac7a0",
   "metadata": {},
   "outputs": [],
   "source": [
    "best_model = LogisticRegression()\n",
    "best_model.fit(X_train, y_train)\n",
    "\n",
    "# Save the model and vectorizer\n",
    "import pickle\n",
    "\n",
    "with open('model.pkl', 'wb') as f:\n",
    "    pickle.dump(best_model, f)\n",
    "\n",
    "with open('vectorizer.pkl', 'wb') as f:\n",
    "    pickle.dump(vectorizer, f)\n",
    "\n",
    "with open('label_encoder.pkl', 'wb') as f:\n",
    "    pickle.dump(label_encoder, f)"
   ]
  }
 ],
 "metadata": {
  "kernelspec": {
   "display_name": ".venv",
   "language": "python",
   "name": "python3"
  },
  "language_info": {
   "codemirror_mode": {
    "name": "ipython",
    "version": 3
   },
   "file_extension": ".py",
   "mimetype": "text/x-python",
   "name": "python",
   "nbconvert_exporter": "python",
   "pygments_lexer": "ipython3",
   "version": "3.13.2"
  }
 },
 "nbformat": 4,
 "nbformat_minor": 5
}
